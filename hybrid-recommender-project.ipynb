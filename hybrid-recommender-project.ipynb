{
 "cells": [
  {
   "cell_type": "markdown",
   "id": "ef1eee8b",
   "metadata": {
    "papermill": {
     "duration": 0.010365,
     "end_time": "2023-11-01T09:46:51.601176",
     "exception": false,
     "start_time": "2023-11-01T09:46:51.590811",
     "status": "completed"
    },
    "tags": []
   },
   "source": [
    "\n",
    "# <p style=\"font-family:newtimeroman;color:#A60000;font-weight: bold;font-size:150%;\"> Hybrid Recommender Project</p>\n",
    "\n"
   ]
  },
  {
   "cell_type": "markdown",
   "id": "0520457d",
   "metadata": {
    "papermill": {
     "duration": 0.009655,
     "end_time": "2023-11-01T09:46:51.621160",
     "exception": false,
     "start_time": "2023-11-01T09:46:51.611505",
     "status": "completed"
    },
    "tags": []
   },
   "source": [
    "* An online movie streaming website wants to develop **hybrid recommender system** for its users.\n",
    "* For the user whose ID is given, make predictions using **item-based and user-based recomennder methods**.\n",
    "* Consider 5 recommendations from user-based model and 5 recommendations from item-based model and finally make 10 recommendations from 2 models."
   ]
  },
  {
   "cell_type": "markdown",
   "id": "d0657390",
   "metadata": {
    "papermill": {
     "duration": 0.009537,
     "end_time": "2023-11-01T09:46:51.640449",
     "exception": false,
     "start_time": "2023-11-01T09:46:51.630912",
     "status": "completed"
    },
    "tags": []
   },
   "source": [
    "# Dataset\n",
    "\n",
    "* The data set consists of the services received by customers and the categories of these services.\n",
    "* It contains the date and time information of each service received.\n",
    "\n",
    "* **UserId**: Customer number\n",
    "* **ServiceId**: Anonymized services belonging to each category (Example: Sofa washing service under the cleaning category)\n",
    "> * A ServiceId can be found under different categories and refers to different services under different categories.\n",
    "> * Example: CategoryId 7 ServiceId 4 refers to honeycomb cleaning while CategoryId 2 ServiceId 4 refers to furniture assembly)\n",
    "* **CategoryId**: Anonymized categories (Example: Cleaning, transportation, renovation category)\n",
    "* **CreateDate**: Date the service was purchased"
   ]
  },
  {
   "cell_type": "markdown",
   "id": "840614ff",
   "metadata": {
    "papermill": {
     "duration": 0.009786,
     "end_time": "2023-11-01T09:46:51.659928",
     "exception": false,
     "start_time": "2023-11-01T09:46:51.650142",
     "status": "completed"
    },
    "tags": []
   },
   "source": [
    "# Task 1: Data Preparation"
   ]
  },
  {
   "cell_type": "code",
   "execution_count": 1,
   "id": "8a684b98",
   "metadata": {
    "execution": {
     "iopub.execute_input": "2023-11-01T09:46:51.682180Z",
     "iopub.status.busy": "2023-11-01T09:46:51.681476Z",
     "iopub.status.idle": "2023-11-01T09:46:52.012814Z",
     "shell.execute_reply": "2023-11-01T09:46:52.011435Z"
    },
    "papermill": {
     "duration": 0.345356,
     "end_time": "2023-11-01T09:46:52.015436",
     "exception": false,
     "start_time": "2023-11-01T09:46:51.670080",
     "status": "completed"
    },
    "tags": []
   },
   "outputs": [],
   "source": [
    "import pandas as pd\n",
    "pd.options.display.max_columns=None\n",
    "pd.options.display.max_rows=10\n",
    "pd.options.display.float_format = '{:.3f}'.format\n",
    "pd.options.display.width = 1000"
   ]
  },
  {
   "cell_type": "markdown",
   "id": "d06cdbdc",
   "metadata": {
    "papermill": {
     "duration": 0.010014,
     "end_time": "2023-11-01T09:46:52.036185",
     "exception": false,
     "start_time": "2023-11-01T09:46:52.026171",
     "status": "completed"
    },
    "tags": []
   },
   "source": [
    "*** Step 1: Read the Movie and Rating data sets.**\n",
    "\n",
    "* movieId, movie title and movie genre data set"
   ]
  },
  {
   "cell_type": "code",
   "execution_count": 2,
   "id": "c0f988cb",
   "metadata": {
    "execution": {
     "iopub.execute_input": "2023-11-01T09:46:52.058381Z",
     "iopub.status.busy": "2023-11-01T09:46:52.057881Z",
     "iopub.status.idle": "2023-11-01T09:46:52.141725Z",
     "shell.execute_reply": "2023-11-01T09:46:52.140641Z"
    },
    "papermill": {
     "duration": 0.09751,
     "end_time": "2023-11-01T09:46:52.143887",
     "exception": false,
     "start_time": "2023-11-01T09:46:52.046377",
     "status": "completed"
    },
    "tags": []
   },
   "outputs": [],
   "source": [
    "movie = pd.read_csv(\"/kaggle/input/movielens-20m-dataset/movie.csv\")"
   ]
  },
  {
   "cell_type": "markdown",
   "id": "5ba39470",
   "metadata": {
    "papermill": {
     "duration": 0.009667,
     "end_time": "2023-11-01T09:46:52.163722",
     "exception": false,
     "start_time": "2023-11-01T09:46:52.154055",
     "status": "completed"
    },
    "tags": []
   },
   "source": [
    "* Data set containing UserID, movie name, vote for the movie and time information"
   ]
  },
  {
   "cell_type": "code",
   "execution_count": 3,
   "id": "6caec525",
   "metadata": {
    "execution": {
     "iopub.execute_input": "2023-11-01T09:46:52.186009Z",
     "iopub.status.busy": "2023-11-01T09:46:52.185408Z",
     "iopub.status.idle": "2023-11-01T09:47:12.322206Z",
     "shell.execute_reply": "2023-11-01T09:47:12.320950Z"
    },
    "papermill": {
     "duration": 20.150708,
     "end_time": "2023-11-01T09:47:12.324754",
     "exception": false,
     "start_time": "2023-11-01T09:46:52.174046",
     "status": "completed"
    },
    "tags": []
   },
   "outputs": [],
   "source": [
    "\n",
    "rating = pd.read_csv(\"/kaggle/input/movielens-20m-dataset/rating.csv\")"
   ]
  },
  {
   "cell_type": "markdown",
   "id": "5d2b2013",
   "metadata": {
    "papermill": {
     "duration": 0.009309,
     "end_time": "2023-11-01T09:47:12.344152",
     "exception": false,
     "start_time": "2023-11-01T09:47:12.334843",
     "status": "completed"
    },
    "tags": []
   },
   "source": [
    "**Step 2: Add the names and genre of the movies to the rating dataset using the movie movie set.**\n",
    "> * The movies that users in the rating voted for have only ids.\n",
    "> * We add the movie names and genre of the ids from the movie dataset."
   ]
  },
  {
   "cell_type": "code",
   "execution_count": 4,
   "id": "153b795d",
   "metadata": {
    "execution": {
     "iopub.execute_input": "2023-11-01T09:47:12.365543Z",
     "iopub.status.busy": "2023-11-01T09:47:12.364378Z",
     "iopub.status.idle": "2023-11-01T09:47:18.296644Z",
     "shell.execute_reply": "2023-11-01T09:47:18.295318Z"
    },
    "papermill": {
     "duration": 5.945292,
     "end_time": "2023-11-01T09:47:18.298889",
     "exception": false,
     "start_time": "2023-11-01T09:47:12.353597",
     "status": "completed"
    },
    "tags": []
   },
   "outputs": [],
   "source": [
    "df = pd.merge(movie,rating, how=\"inner\", on=\"movieId\")"
   ]
  },
  {
   "cell_type": "markdown",
   "id": "927ea518",
   "metadata": {
    "papermill": {
     "duration": 0.061952,
     "end_time": "2023-11-01T09:47:18.371438",
     "exception": false,
     "start_time": "2023-11-01T09:47:18.309486",
     "status": "completed"
    },
    "tags": []
   },
   "source": [
    "**Step 3: Calculate how many people voted for each movie in total. Exclude movies with less than 1000 total votes from the dataset.**\n",
    "> * We calculate how many people voted for each movie.\n",
    "> * We keep the names of the movies with less than 1000 total votes in rare_movies and remove them from the dataset."
   ]
  },
  {
   "cell_type": "code",
   "execution_count": 5,
   "id": "3e141615",
   "metadata": {
    "execution": {
     "iopub.execute_input": "2023-11-01T09:47:18.394198Z",
     "iopub.status.busy": "2023-11-01T09:47:18.393782Z",
     "iopub.status.idle": "2023-11-01T09:47:21.573223Z",
     "shell.execute_reply": "2023-11-01T09:47:21.572106Z"
    },
    "papermill": {
     "duration": 3.193362,
     "end_time": "2023-11-01T09:47:21.575593",
     "exception": false,
     "start_time": "2023-11-01T09:47:18.382231",
     "status": "completed"
    },
    "tags": []
   },
   "outputs": [],
   "source": [
    "values_pd = df[\"title\"].value_counts()\n",
    "\n",
    "rare_movies = values_pd[values_pd < 1000].index\n",
    "\n",
    "df_ = df[~df[\"title\"].isin(rare_movies)]"
   ]
  },
  {
   "cell_type": "markdown",
   "id": "fda016b9",
   "metadata": {
    "papermill": {
     "duration": 0.010051,
     "end_time": "2023-11-01T09:47:21.596102",
     "exception": false,
     "start_time": "2023-11-01T09:47:21.586051",
     "status": "completed"
    },
    "tags": []
   },
   "source": [
    "**Step 4: # Create a pivot table for dataframe with userIDs in index, movie names in columns and ratings as values (name it user_movie_df)**"
   ]
  },
  {
   "cell_type": "code",
   "execution_count": 6,
   "id": "8dc4252e",
   "metadata": {
    "execution": {
     "iopub.execute_input": "2023-11-01T09:47:21.618947Z",
     "iopub.status.busy": "2023-11-01T09:47:21.618621Z",
     "iopub.status.idle": "2023-11-01T09:47:41.008581Z",
     "shell.execute_reply": "2023-11-01T09:47:41.007260Z"
    },
    "papermill": {
     "duration": 19.404255,
     "end_time": "2023-11-01T09:47:41.011120",
     "exception": false,
     "start_time": "2023-11-01T09:47:21.606865",
     "status": "completed"
    },
    "tags": []
   },
   "outputs": [
    {
     "data": {
      "text/plain": [
       "(138493, 3159)"
      ]
     },
     "execution_count": 6,
     "metadata": {},
     "output_type": "execute_result"
    }
   ],
   "source": [
    "user_movie_df = df_.pivot_table(index=\"userId\",columns=\"title\",values=\"rating\")\n",
    "user_movie_df.shape"
   ]
  },
  {
   "cell_type": "markdown",
   "id": "71b3c425",
   "metadata": {
    "papermill": {
     "duration": 0.01014,
     "end_time": "2023-11-01T09:47:41.032022",
     "exception": false,
     "start_time": "2023-11-01T09:47:41.021882",
     "status": "completed"
    },
    "tags": []
   },
   "source": [
    "**Step 5: Let's functionalize all the above operations**"
   ]
  },
  {
   "cell_type": "code",
   "execution_count": 7,
   "id": "da5c3593",
   "metadata": {
    "execution": {
     "iopub.execute_input": "2023-11-01T09:47:41.054599Z",
     "iopub.status.busy": "2023-11-01T09:47:41.054239Z",
     "iopub.status.idle": "2023-11-01T09:47:41.060733Z",
     "shell.execute_reply": "2023-11-01T09:47:41.059550Z"
    },
    "papermill": {
     "duration": 0.020534,
     "end_time": "2023-11-01T09:47:41.063023",
     "exception": false,
     "start_time": "2023-11-01T09:47:41.042489",
     "status": "completed"
    },
    "tags": []
   },
   "outputs": [],
   "source": [
    "def yuk(df1, df2, min_vote=1000):\n",
    "    df1,df2 = df1.copy(), df2.copy()\n",
    "    merged = pd.merge(df1, df2, how=\"inner\", on=\"movieId\")\n",
    "    counter = merged[\"title\"].value_counts()\n",
    "    rares = counter[counter < min_vote].index\n",
    "    merged_non_rares = merged[~merged[\"title\"].isin(rares)]\n",
    "    pivottable = merged_non_rares.pivot_table(values=\"rating\", index=\"userId\", columns=\"title\")\n",
    "    return pivottable"
   ]
  },
  {
   "cell_type": "markdown",
   "id": "da3dd87f",
   "metadata": {
    "papermill": {
     "duration": 0.009948,
     "end_time": "2023-11-01T09:47:41.083535",
     "exception": false,
     "start_time": "2023-11-01T09:47:41.073587",
     "status": "completed"
    },
    "tags": []
   },
   "source": [
    "# Task 2: Determining the Movies Watched by the User for Recommendation"
   ]
  },
  {
   "cell_type": "markdown",
   "id": "740771c9",
   "metadata": {
    "papermill": {
     "duration": 0.010741,
     "end_time": "2023-11-01T09:47:41.104434",
     "exception": false,
     "start_time": "2023-11-01T09:47:41.093693",
     "status": "completed"
    },
    "tags": []
   },
   "source": [
    "**Step 1: Select a random user id.**"
   ]
  },
  {
   "cell_type": "code",
   "execution_count": 8,
   "id": "adbbd0de",
   "metadata": {
    "execution": {
     "iopub.execute_input": "2023-11-01T09:47:41.126273Z",
     "iopub.status.busy": "2023-11-01T09:47:41.125901Z",
     "iopub.status.idle": "2023-11-01T09:47:41.137100Z",
     "shell.execute_reply": "2023-11-01T09:47:41.135728Z"
    },
    "papermill": {
     "duration": 0.024858,
     "end_time": "2023-11-01T09:47:41.139439",
     "exception": false,
     "start_time": "2023-11-01T09:47:41.114581",
     "status": "completed"
    },
    "tags": []
   },
   "outputs": [],
   "source": [
    "random_user = user_movie_df.sample(1,random_state=45).index[0]"
   ]
  },
  {
   "cell_type": "markdown",
   "id": "6fcd7ee3",
   "metadata": {
    "papermill": {
     "duration": 0.009752,
     "end_time": "2023-11-01T09:47:41.159595",
     "exception": false,
     "start_time": "2023-11-01T09:47:41.149843",
     "status": "completed"
    },
    "tags": []
   },
   "source": [
    "**Step 2: Create a new dataframe named random_user_df with the observation units of the selected user.**"
   ]
  },
  {
   "cell_type": "code",
   "execution_count": 9,
   "id": "e16d3647",
   "metadata": {
    "execution": {
     "iopub.execute_input": "2023-11-01T09:47:41.182809Z",
     "iopub.status.busy": "2023-11-01T09:47:41.181882Z",
     "iopub.status.idle": "2023-11-01T09:47:41.187397Z",
     "shell.execute_reply": "2023-11-01T09:47:41.186409Z"
    },
    "papermill": {
     "duration": 0.020073,
     "end_time": "2023-11-01T09:47:41.189596",
     "exception": false,
     "start_time": "2023-11-01T09:47:41.169523",
     "status": "completed"
    },
    "tags": []
   },
   "outputs": [],
   "source": [
    "random_user_df = user_movie_df[user_movie_df.index==random_user]"
   ]
  },
  {
   "cell_type": "markdown",
   "id": "f9b768aa",
   "metadata": {
    "papermill": {
     "duration": 0.010186,
     "end_time": "2023-11-01T09:47:41.210510",
     "exception": false,
     "start_time": "2023-11-01T09:47:41.200324",
     "status": "completed"
    },
    "tags": []
   },
   "source": [
    "**Step 3: Assign the movies that the selected user voted for to a list called movies_watched.**"
   ]
  },
  {
   "cell_type": "code",
   "execution_count": 10,
   "id": "8412761a",
   "metadata": {
    "execution": {
     "iopub.execute_input": "2023-11-01T09:47:41.232928Z",
     "iopub.status.busy": "2023-11-01T09:47:41.232587Z",
     "iopub.status.idle": "2023-11-01T09:47:41.238979Z",
     "shell.execute_reply": "2023-11-01T09:47:41.237954Z"
    },
    "papermill": {
     "duration": 0.020031,
     "end_time": "2023-11-01T09:47:41.240887",
     "exception": false,
     "start_time": "2023-11-01T09:47:41.220856",
     "status": "completed"
    },
    "tags": []
   },
   "outputs": [],
   "source": [
    "movies_watched = random_user_df.dropna(axis=1).columns.tolist()"
   ]
  },
  {
   "cell_type": "markdown",
   "id": "5814588a",
   "metadata": {
    "papermill": {
     "duration": 0.0102,
     "end_time": "2023-11-01T09:47:41.261818",
     "exception": false,
     "start_time": "2023-11-01T09:47:41.251618",
     "status": "completed"
    },
    "tags": []
   },
   "source": [
    "# Task 3: Accessing Data and Ids of Other Users Watching the Same Movies"
   ]
  },
  {
   "cell_type": "markdown",
   "id": "0b236399",
   "metadata": {
    "papermill": {
     "duration": 0.01026,
     "end_time": "2023-11-01T09:47:41.283042",
     "exception": false,
     "start_time": "2023-11-01T09:47:41.272782",
     "status": "completed"
    },
    "tags": []
   },
   "source": [
    "**Step 1: Select the columns of the movies watched by the selected user from user_movie_df and create a new dataframe called movies_watched_df.**"
   ]
  },
  {
   "cell_type": "code",
   "execution_count": 11,
   "id": "e0107e47",
   "metadata": {
    "execution": {
     "iopub.execute_input": "2023-11-01T09:47:41.305685Z",
     "iopub.status.busy": "2023-11-01T09:47:41.305357Z",
     "iopub.status.idle": "2023-11-01T09:47:41.318819Z",
     "shell.execute_reply": "2023-11-01T09:47:41.317746Z"
    },
    "papermill": {
     "duration": 0.02714,
     "end_time": "2023-11-01T09:47:41.320682",
     "exception": false,
     "start_time": "2023-11-01T09:47:41.293542",
     "status": "completed"
    },
    "tags": []
   },
   "outputs": [],
   "source": [
    "movies_watched_df = user_movie_df[movies_watched]"
   ]
  },
  {
   "cell_type": "markdown",
   "id": "6f7694e0",
   "metadata": {
    "papermill": {
     "duration": 0.01021,
     "end_time": "2023-11-01T09:47:41.341524",
     "exception": false,
     "start_time": "2023-11-01T09:47:41.331314",
     "status": "completed"
    },
    "tags": []
   },
   "source": [
    "**Step 2: Create a new dataframe called user_movie_count, which carries the information about how many movies each user has watched of the movies watched by the selected user, and create a new df.**"
   ]
  },
  {
   "cell_type": "code",
   "execution_count": 12,
   "id": "eeeefe4d",
   "metadata": {
    "execution": {
     "iopub.execute_input": "2023-11-01T09:47:41.364135Z",
     "iopub.status.busy": "2023-11-01T09:47:41.363766Z",
     "iopub.status.idle": "2023-11-01T09:47:41.392113Z",
     "shell.execute_reply": "2023-11-01T09:47:41.390932Z"
    },
    "papermill": {
     "duration": 0.042639,
     "end_time": "2023-11-01T09:47:41.394420",
     "exception": false,
     "start_time": "2023-11-01T09:47:41.351781",
     "status": "completed"
    },
    "tags": []
   },
   "outputs": [
    {
     "data": {
      "text/plain": [
       "33"
      ]
     },
     "execution_count": 12,
     "metadata": {},
     "output_type": "execute_result"
    }
   ],
   "source": [
    "user_movie_count = movies_watched_df.notnull().sum(axis=1)\n",
    "user_movie_count.max()"
   ]
  },
  {
   "cell_type": "markdown",
   "id": "2debc148",
   "metadata": {
    "papermill": {
     "duration": 0.009671,
     "end_time": "2023-11-01T09:47:41.414515",
     "exception": false,
     "start_time": "2023-11-01T09:47:41.404844",
     "status": "completed"
    },
    "tags": []
   },
   "source": [
    "**Step 3: We consider users who have watched 60 percent or more of the movies voted by the selected user as similar users.**\n",
    "> * Create a list called users_same_movies from the ids of these users."
   ]
  },
  {
   "cell_type": "code",
   "execution_count": 13,
   "id": "3d8d107d",
   "metadata": {
    "execution": {
     "iopub.execute_input": "2023-11-01T09:47:41.436219Z",
     "iopub.status.busy": "2023-11-01T09:47:41.435847Z",
     "iopub.status.idle": "2023-11-01T09:47:41.441923Z",
     "shell.execute_reply": "2023-11-01T09:47:41.440749Z"
    },
    "papermill": {
     "duration": 0.020024,
     "end_time": "2023-11-01T09:47:41.444473",
     "exception": false,
     "start_time": "2023-11-01T09:47:41.424449",
     "status": "completed"
    },
    "tags": []
   },
   "outputs": [],
   "source": [
    "users_same_movies = user_movie_count[user_movie_count > (movies_watched_df.shape[1] * 60 ) / 100].index"
   ]
  },
  {
   "cell_type": "markdown",
   "id": "74a30387",
   "metadata": {
    "papermill": {
     "duration": 0.010287,
     "end_time": "2023-11-01T09:47:41.465670",
     "exception": false,
     "start_time": "2023-11-01T09:47:41.455383",
     "status": "completed"
    },
    "tags": []
   },
   "source": [
    "# Task 4: Identifying the Users Most Similar to the User for Recommendation"
   ]
  },
  {
   "cell_type": "markdown",
   "id": "c8e3a868",
   "metadata": {
    "papermill": {
     "duration": 0.010029,
     "end_time": "2023-11-01T09:47:41.486116",
     "exception": false,
     "start_time": "2023-11-01T09:47:41.476087",
     "status": "completed"
    },
    "tags": []
   },
   "source": [
    "**Step 1: Filter the movies_watched_df dataframe to find the ids of the users that are similar to the selected user in the user_same_movies list.**"
   ]
  },
  {
   "cell_type": "code",
   "execution_count": 14,
   "id": "99f2a596",
   "metadata": {
    "execution": {
     "iopub.execute_input": "2023-11-01T09:47:41.509269Z",
     "iopub.status.busy": "2023-11-01T09:47:41.508885Z",
     "iopub.status.idle": "2023-11-01T09:47:41.518707Z",
     "shell.execute_reply": "2023-11-01T09:47:41.517383Z"
    },
    "papermill": {
     "duration": 0.02443,
     "end_time": "2023-11-01T09:47:41.521014",
     "exception": false,
     "start_time": "2023-11-01T09:47:41.496584",
     "status": "completed"
    },
    "tags": []
   },
   "outputs": [],
   "source": [
    "filtered_df = movies_watched_df[movies_watched_df.index.isin(users_same_movies)]"
   ]
  },
  {
   "cell_type": "markdown",
   "id": "8d4bf273",
   "metadata": {
    "papermill": {
     "duration": 0.010098,
     "end_time": "2023-11-01T09:47:41.542205",
     "exception": false,
     "start_time": "2023-11-01T09:47:41.532107",
     "status": "completed"
    },
    "tags": []
   },
   "source": [
    "**Step 2: Create a new corr_df dataframe where the correlations of the users with each other will be found.**"
   ]
  },
  {
   "cell_type": "code",
   "execution_count": 15,
   "id": "53d4bc76",
   "metadata": {
    "execution": {
     "iopub.execute_input": "2023-11-01T09:47:41.564327Z",
     "iopub.status.busy": "2023-11-01T09:47:41.563947Z",
     "iopub.status.idle": "2023-11-01T09:47:42.667193Z",
     "shell.execute_reply": "2023-11-01T09:47:42.666138Z"
    },
    "papermill": {
     "duration": 1.117425,
     "end_time": "2023-11-01T09:47:42.669944",
     "exception": false,
     "start_time": "2023-11-01T09:47:41.552519",
     "status": "completed"
    },
    "tags": []
   },
   "outputs": [
    {
     "data": {
      "text/plain": [
       "userId\n",
       "91        0.399\n",
       "130      -0.052\n",
       "156      -0.027\n",
       "158       0.427\n",
       "160       0.294\n",
       "          ...  \n",
       "138208    0.260\n",
       "138279    0.427\n",
       "138382   -0.045\n",
       "138415    0.482\n",
       "138483    0.568\n",
       "Length: 4139, dtype: float64"
      ]
     },
     "execution_count": 15,
     "metadata": {},
     "output_type": "execute_result"
    }
   ],
   "source": [
    "corr_df = filtered_df.T.corr().unstack()\n",
    "corr_df[random_user]"
   ]
  },
  {
   "cell_type": "markdown",
   "id": "534b7061",
   "metadata": {
    "papermill": {
     "duration": 0.010049,
     "end_time": "2023-11-01T09:47:42.690775",
     "exception": false,
     "start_time": "2023-11-01T09:47:42.680726",
     "status": "completed"
    },
    "tags": []
   },
   "source": [
    "**Step 3: Create a new dataframe called top_users by filtering the users with high correlation (above 0.65) with the selected user.**\n"
   ]
  },
  {
   "cell_type": "code",
   "execution_count": 16,
   "id": "8445be2f",
   "metadata": {
    "execution": {
     "iopub.execute_input": "2023-11-01T09:47:42.712644Z",
     "iopub.status.busy": "2023-11-01T09:47:42.712312Z",
     "iopub.status.idle": "2023-11-01T09:47:42.718640Z",
     "shell.execute_reply": "2023-11-01T09:47:42.717712Z"
    },
    "papermill": {
     "duration": 0.020135,
     "end_time": "2023-11-01T09:47:42.721004",
     "exception": false,
     "start_time": "2023-11-01T09:47:42.700869",
     "status": "completed"
    },
    "tags": []
   },
   "outputs": [],
   "source": [
    "top_users = pd.DataFrame(corr_df[random_user][corr_df[random_user] > 0.65], columns=[\"corr\"])"
   ]
  },
  {
   "cell_type": "markdown",
   "id": "4a633e0c",
   "metadata": {
    "papermill": {
     "duration": 0.009854,
     "end_time": "2023-11-01T09:47:42.741268",
     "exception": false,
     "start_time": "2023-11-01T09:47:42.731414",
     "status": "completed"
    },
    "tags": []
   },
   "source": [
    "**Step 4: Merge top_users dataframe with the rating dataset**"
   ]
  },
  {
   "cell_type": "code",
   "execution_count": 17,
   "id": "d0ddffa2",
   "metadata": {
    "execution": {
     "iopub.execute_input": "2023-11-01T09:47:42.763263Z",
     "iopub.status.busy": "2023-11-01T09:47:42.762887Z",
     "iopub.status.idle": "2023-11-01T09:47:43.502444Z",
     "shell.execute_reply": "2023-11-01T09:47:43.501403Z"
    },
    "papermill": {
     "duration": 0.753348,
     "end_time": "2023-11-01T09:47:43.504669",
     "exception": false,
     "start_time": "2023-11-01T09:47:42.751321",
     "status": "completed"
    },
    "tags": []
   },
   "outputs": [],
   "source": [
    "top_users_ratings = pd.merge(top_users, rating[[\"userId\", \"movieId\", \"rating\"]], how='inner', on=\"userId\")"
   ]
  },
  {
   "cell_type": "markdown",
   "id": "0d6a16a7",
   "metadata": {
    "papermill": {
     "duration": 0.010079,
     "end_time": "2023-11-01T09:47:43.525741",
     "exception": false,
     "start_time": "2023-11-01T09:47:43.515662",
     "status": "completed"
    },
    "tags": []
   },
   "source": [
    "# Task 5: Calculating the Weighted Average Recommendation Score and Keeping the Top 5 Movies"
   ]
  },
  {
   "cell_type": "markdown",
   "id": "e11602f4",
   "metadata": {
    "papermill": {
     "duration": 0.010011,
     "end_time": "2023-11-01T09:47:43.546783",
     "exception": false,
     "start_time": "2023-11-01T09:47:43.536772",
     "status": "completed"
    },
    "tags": []
   },
   "source": [
    "**Step 1: Create a new variable called weighted_rating which is the product of each user's corr and rating values.**"
   ]
  },
  {
   "cell_type": "code",
   "execution_count": 18,
   "id": "1ec46769",
   "metadata": {
    "execution": {
     "iopub.execute_input": "2023-11-01T09:47:43.569259Z",
     "iopub.status.busy": "2023-11-01T09:47:43.568906Z",
     "iopub.status.idle": "2023-11-01T09:47:43.574242Z",
     "shell.execute_reply": "2023-11-01T09:47:43.573378Z"
    },
    "papermill": {
     "duration": 0.018746,
     "end_time": "2023-11-01T09:47:43.575929",
     "exception": false,
     "start_time": "2023-11-01T09:47:43.557183",
     "status": "completed"
    },
    "tags": []
   },
   "outputs": [],
   "source": [
    "top_users_ratings['weighted_rating'] = top_users_ratings['corr'] * top_users_ratings['rating']"
   ]
  },
  {
   "cell_type": "markdown",
   "id": "6e4d2f74",
   "metadata": {
    "papermill": {
     "duration": 0.009853,
     "end_time": "2023-11-01T09:47:43.596139",
     "exception": false,
     "start_time": "2023-11-01T09:47:43.586286",
     "status": "completed"
    },
    "tags": []
   },
   "source": [
    "**Step 2: Create a new dataframe called recommendation_df containing the movie id and the average value of all users' weighted ratings for each movie.**"
   ]
  },
  {
   "cell_type": "code",
   "execution_count": 19,
   "id": "8f812fab",
   "metadata": {
    "execution": {
     "iopub.execute_input": "2023-11-01T09:47:43.619066Z",
     "iopub.status.busy": "2023-11-01T09:47:43.618688Z",
     "iopub.status.idle": "2023-11-01T09:47:43.629334Z",
     "shell.execute_reply": "2023-11-01T09:47:43.628191Z"
    },
    "papermill": {
     "duration": 0.025555,
     "end_time": "2023-11-01T09:47:43.632058",
     "exception": false,
     "start_time": "2023-11-01T09:47:43.606503",
     "status": "completed"
    },
    "tags": []
   },
   "outputs": [],
   "source": [
    "recommendation_df = top_users_ratings.pivot_table(values=\"weighted_rating\", index=\"movieId\", aggfunc=\"mean\")"
   ]
  },
  {
   "cell_type": "markdown",
   "id": "e995fb08",
   "metadata": {
    "papermill": {
     "duration": 0.010709,
     "end_time": "2023-11-01T09:47:43.653573",
     "exception": false,
     "start_time": "2023-11-01T09:47:43.642864",
     "status": "completed"
    },
    "tags": []
   },
   "source": [
    "**Step 3: in recommendation_df, select movies with a weighted rating greater than 3.5 and sort them by weighted rating.**\n",
    "> * Save the first 5 observations as movies_to_be_recommend."
   ]
  },
  {
   "cell_type": "code",
   "execution_count": 20,
   "id": "d7a25177",
   "metadata": {
    "execution": {
     "iopub.execute_input": "2023-11-01T09:47:43.676352Z",
     "iopub.status.busy": "2023-11-01T09:47:43.675980Z",
     "iopub.status.idle": "2023-11-01T09:47:43.682844Z",
     "shell.execute_reply": "2023-11-01T09:47:43.681548Z"
    },
    "papermill": {
     "duration": 0.021153,
     "end_time": "2023-11-01T09:47:43.685230",
     "exception": false,
     "start_time": "2023-11-01T09:47:43.664077",
     "status": "completed"
    },
    "tags": []
   },
   "outputs": [],
   "source": [
    "movies_to_be_recommend = recommendation_df[recommendation_df[\"weighted_rating\"] > 3.5].sort_values(by=\"weighted_rating\", ascending=False).head(5)\n"
   ]
  },
  {
   "cell_type": "markdown",
   "id": "701713fd",
   "metadata": {
    "papermill": {
     "duration": 0.009703,
     "end_time": "2023-11-01T09:47:43.705486",
     "exception": false,
     "start_time": "2023-11-01T09:47:43.695783",
     "status": "completed"
    },
    "tags": []
   },
   "source": [
    "**Step 4: Bring the names of 5 recommended movies.**"
   ]
  },
  {
   "cell_type": "code",
   "execution_count": 21,
   "id": "7f91d426",
   "metadata": {
    "execution": {
     "iopub.execute_input": "2023-11-01T09:47:43.727295Z",
     "iopub.status.busy": "2023-11-01T09:47:43.726755Z",
     "iopub.status.idle": "2023-11-01T09:47:43.734001Z",
     "shell.execute_reply": "2023-11-01T09:47:43.733330Z"
    },
    "papermill": {
     "duration": 0.020163,
     "end_time": "2023-11-01T09:47:43.735665",
     "exception": false,
     "start_time": "2023-11-01T09:47:43.715502",
     "status": "completed"
    },
    "tags": []
   },
   "outputs": [
    {
     "data": {
      "text/plain": [
       "52                     Lamerica (1994)\n",
       "1838                   Whatever (1998)\n",
       "1973    Incredible Journey, The (1963)\n",
       "2400             She's All That (1999)\n",
       "3031                Tumbleweeds (1999)\n",
       "Name: title, dtype: object"
      ]
     },
     "execution_count": 21,
     "metadata": {},
     "output_type": "execute_result"
    }
   ],
   "source": [
    "movie[\"title\"][movie[\"movieId\"].isin(movies_to_be_recommend.index)]"
   ]
  },
  {
   "cell_type": "markdown",
   "id": "1809cc53",
   "metadata": {
    "papermill": {
     "duration": 0.010136,
     "end_time": "2023-11-01T09:47:43.756505",
     "exception": false,
     "start_time": "2023-11-01T09:47:43.746369",
     "status": "completed"
    },
    "tags": []
   },
   "source": [
    "# Task 6: Item-Based Recommendation"
   ]
  },
  {
   "cell_type": "markdown",
   "id": "42223550",
   "metadata": {
    "papermill": {
     "duration": 0.010132,
     "end_time": "2023-11-01T09:47:43.777387",
     "exception": false,
     "start_time": "2023-11-01T09:47:43.767255",
     "status": "completed"
    },
    "tags": []
   },
   "source": [
    "**Make item-based suggestions based on the name of the movie that the user has watched last and rated the highest.**"
   ]
  },
  {
   "cell_type": "code",
   "execution_count": 22,
   "id": "af3bf637",
   "metadata": {
    "execution": {
     "iopub.execute_input": "2023-11-01T09:47:43.799950Z",
     "iopub.status.busy": "2023-11-01T09:47:43.799433Z",
     "iopub.status.idle": "2023-11-01T09:47:43.803158Z",
     "shell.execute_reply": "2023-11-01T09:47:43.802561Z"
    },
    "papermill": {
     "duration": 0.016965,
     "end_time": "2023-11-01T09:47:43.804756",
     "exception": false,
     "start_time": "2023-11-01T09:47:43.787791",
     "status": "completed"
    },
    "tags": []
   },
   "outputs": [],
   "source": [
    "user = 108170\n"
   ]
  },
  {
   "cell_type": "markdown",
   "id": "745d2833",
   "metadata": {
    "papermill": {
     "duration": 0.010284,
     "end_time": "2023-11-01T09:47:43.825732",
     "exception": false,
     "start_time": "2023-11-01T09:47:43.815448",
     "status": "completed"
    },
    "tags": []
   },
   "source": [
    "**Step 1: Get the id of the movie with the most recent score among the movies that the user to be recommended has given 5 points.**"
   ]
  },
  {
   "cell_type": "code",
   "execution_count": 23,
   "id": "bb528423",
   "metadata": {
    "execution": {
     "iopub.execute_input": "2023-11-01T09:47:43.848431Z",
     "iopub.status.busy": "2023-11-01T09:47:43.847905Z",
     "iopub.status.idle": "2023-11-01T09:47:43.916776Z",
     "shell.execute_reply": "2023-11-01T09:47:43.914952Z"
    },
    "papermill": {
     "duration": 0.08279,
     "end_time": "2023-11-01T09:47:43.919058",
     "exception": false,
     "start_time": "2023-11-01T09:47:43.836268",
     "status": "completed"
    },
    "tags": []
   },
   "outputs": [],
   "source": [
    "pick = rating[(rating[\"rating\"] == 5) & (rating[\"userId\"]==user)].sort_values(by=\"timestamp\", ascending=False).iloc[0][\"movieId\"]\n"
   ]
  },
  {
   "cell_type": "markdown",
   "id": "ddb0b5ee",
   "metadata": {
    "papermill": {
     "duration": 0.010008,
     "end_time": "2023-11-01T09:47:43.939776",
     "exception": false,
     "start_time": "2023-11-01T09:47:43.929768",
     "status": "completed"
    },
    "tags": []
   },
   "source": [
    "**# Step 2 :Filter the user_movie_df dataframe created in the User based recommendation section according to the selected movie id.**"
   ]
  },
  {
   "cell_type": "code",
   "execution_count": 24,
   "id": "823e9b2c",
   "metadata": {
    "execution": {
     "iopub.execute_input": "2023-11-01T09:47:43.963118Z",
     "iopub.status.busy": "2023-11-01T09:47:43.962746Z",
     "iopub.status.idle": "2023-11-01T09:47:43.971030Z",
     "shell.execute_reply": "2023-11-01T09:47:43.970411Z"
    },
    "papermill": {
     "duration": 0.02128,
     "end_time": "2023-11-01T09:47:43.972530",
     "exception": false,
     "start_time": "2023-11-01T09:47:43.951250",
     "status": "completed"
    },
    "tags": []
   },
   "outputs": [
    {
     "data": {
      "text/plain": [
       "userId\n",
       "394      3.500\n",
       "424      2.000\n",
       "455      3.500\n",
       "563      4.500\n",
       "664      5.000\n",
       "          ... \n",
       "137683   3.000\n",
       "137839   3.500\n",
       "138206   4.000\n",
       "138208   2.500\n",
       "138307   4.000\n",
       "Name: Wild at Heart (1990), Length: 1537, dtype: float64"
      ]
     },
     "execution_count": 24,
     "metadata": {},
     "output_type": "execute_result"
    }
   ],
   "source": [
    "picked_movie_name = movie[\"title\"][movie[\"movieId\"]==pick].iloc[0]\n",
    "\n",
    "filtered_movies = user_movie_df[picked_movie_name]\n",
    "\n",
    "filtered_movies[filtered_movies.notna()]\n"
   ]
  },
  {
   "cell_type": "markdown",
   "id": "76922182",
   "metadata": {
    "papermill": {
     "duration": 0.010122,
     "end_time": "2023-11-01T09:47:43.993169",
     "exception": false,
     "start_time": "2023-11-01T09:47:43.983047",
     "status": "completed"
    },
    "tags": []
   },
   "source": [
    "**Step 3: Use the filtered dataframe, find the correlation between the selected movie and other movies and sort them.**"
   ]
  },
  {
   "cell_type": "code",
   "execution_count": 25,
   "id": "7073a12e",
   "metadata": {
    "execution": {
     "iopub.execute_input": "2023-11-01T09:47:44.016040Z",
     "iopub.status.busy": "2023-11-01T09:47:44.014893Z",
     "iopub.status.idle": "2023-11-01T09:47:46.731907Z",
     "shell.execute_reply": "2023-11-01T09:47:46.731142Z"
    },
    "papermill": {
     "duration": 2.730704,
     "end_time": "2023-11-01T09:47:46.734106",
     "exception": false,
     "start_time": "2023-11-01T09:47:44.003402",
     "status": "completed"
    },
    "tags": []
   },
   "outputs": [],
   "source": [
    "users_wo_user = user_movie_df.drop(user,axis=0).drop(movies_watched,axis=1)\n",
    "filtered_wo_user = filtered_movies.drop(user,axis=0)\n",
    "\n",
    "movies_similarity = users_wo_user.corrwith(filtered_wo_user).sort_values(ascending=False).reset_index()\n",
    "\n",
    "movies_similarity.columns=[\"title\",\"similarity\"]"
   ]
  },
  {
   "cell_type": "markdown",
   "id": "0722f03f",
   "metadata": {
    "papermill": {
     "duration": 0.011271,
     "end_time": "2023-11-01T09:47:46.757421",
     "exception": false,
     "start_time": "2023-11-01T09:47:46.746150",
     "status": "completed"
    },
    "tags": []
   },
   "source": [
    "**Step 4: Suggest the first 5 movies other than the selected movie itself.**"
   ]
  },
  {
   "cell_type": "code",
   "execution_count": 26,
   "id": "41056464",
   "metadata": {
    "execution": {
     "iopub.execute_input": "2023-11-01T09:47:46.782529Z",
     "iopub.status.busy": "2023-11-01T09:47:46.781497Z",
     "iopub.status.idle": "2023-11-01T09:47:46.797515Z",
     "shell.execute_reply": "2023-11-01T09:47:46.796409Z"
    },
    "papermill": {
     "duration": 0.031485,
     "end_time": "2023-11-01T09:47:46.800141",
     "exception": false,
     "start_time": "2023-11-01T09:47:46.768656",
     "status": "completed"
    },
    "tags": []
   },
   "outputs": [
    {
     "data": {
      "text/html": [
       "<div>\n",
       "<style scoped>\n",
       "    .dataframe tbody tr th:only-of-type {\n",
       "        vertical-align: middle;\n",
       "    }\n",
       "\n",
       "    .dataframe tbody tr th {\n",
       "        vertical-align: top;\n",
       "    }\n",
       "\n",
       "    .dataframe thead th {\n",
       "        text-align: right;\n",
       "    }\n",
       "</style>\n",
       "<table border=\"1\" class=\"dataframe\">\n",
       "  <thead>\n",
       "    <tr style=\"text-align: right;\">\n",
       "      <th></th>\n",
       "      <th>title</th>\n",
       "      <th>similarity</th>\n",
       "    </tr>\n",
       "  </thead>\n",
       "  <tbody>\n",
       "    <tr>\n",
       "      <th>1</th>\n",
       "      <td>My Science Project (1985)</td>\n",
       "      <td>0.570</td>\n",
       "    </tr>\n",
       "    <tr>\n",
       "      <th>2</th>\n",
       "      <td>Mediterraneo (1991)</td>\n",
       "      <td>0.539</td>\n",
       "    </tr>\n",
       "    <tr>\n",
       "      <th>3</th>\n",
       "      <td>Old Man and the Sea, The (1958)</td>\n",
       "      <td>0.536</td>\n",
       "    </tr>\n",
       "    <tr>\n",
       "      <th>4</th>\n",
       "      <td>National Lampoon's Senior Trip (1995)</td>\n",
       "      <td>0.533</td>\n",
       "    </tr>\n",
       "    <tr>\n",
       "      <th>5</th>\n",
       "      <td>Clockwatchers (1997)</td>\n",
       "      <td>0.483</td>\n",
       "    </tr>\n",
       "  </tbody>\n",
       "</table>\n",
       "</div>"
      ],
      "text/plain": [
       "                                   title  similarity\n",
       "1              My Science Project (1985)       0.570\n",
       "2                    Mediterraneo (1991)       0.539\n",
       "3        Old Man and the Sea, The (1958)       0.536\n",
       "4  National Lampoon's Senior Trip (1995)       0.533\n",
       "5                   Clockwatchers (1997)       0.483"
      ]
     },
     "execution_count": 26,
     "metadata": {},
     "output_type": "execute_result"
    }
   ],
   "source": [
    "movies_similarity.sort_values(by=\"similarity\",ascending=False).iloc[1:6]"
   ]
  },
  {
   "cell_type": "markdown",
   "id": "17cad3cc",
   "metadata": {
    "papermill": {
     "duration": 0.011877,
     "end_time": "2023-11-01T09:47:46.825123",
     "exception": false,
     "start_time": "2023-11-01T09:47:46.813246",
     "status": "completed"
    },
    "tags": []
   },
   "source": [
    "# Task 7: Hybrid Recommendation"
   ]
  },
  {
   "cell_type": "markdown",
   "id": "090f15b6",
   "metadata": {
    "papermill": {
     "duration": 0.011671,
     "end_time": "2023-11-01T09:47:46.848803",
     "exception": false,
     "start_time": "2023-11-01T09:47:46.837132",
     "status": "completed"
    },
    "tags": []
   },
   "source": [
    "*** Combine movies that have a high similarity to the movie that the user rated 5 and movies that other similar users rated 3.5 and above on average.**\n",
    "\n",
    "*** Multiply the similarity score and average score and recommend, recommend by ranking.**\n",
    "\n",
    "*** Recommend 10 movies.**"
   ]
  },
  {
   "cell_type": "code",
   "execution_count": 27,
   "id": "11ce88c5",
   "metadata": {
    "execution": {
     "iopub.execute_input": "2023-11-01T09:47:46.875839Z",
     "iopub.status.busy": "2023-11-01T09:47:46.875275Z",
     "iopub.status.idle": "2023-11-01T09:47:46.907907Z",
     "shell.execute_reply": "2023-11-01T09:47:46.907045Z"
    },
    "papermill": {
     "duration": 0.049334,
     "end_time": "2023-11-01T09:47:46.910113",
     "exception": false,
     "start_time": "2023-11-01T09:47:46.860779",
     "status": "completed"
    },
    "tags": []
   },
   "outputs": [
    {
     "data": {
      "text/html": [
       "<div>\n",
       "<style scoped>\n",
       "    .dataframe tbody tr th:only-of-type {\n",
       "        vertical-align: middle;\n",
       "    }\n",
       "\n",
       "    .dataframe tbody tr th {\n",
       "        vertical-align: top;\n",
       "    }\n",
       "\n",
       "    .dataframe thead th {\n",
       "        text-align: right;\n",
       "    }\n",
       "</style>\n",
       "<table border=\"1\" class=\"dataframe\">\n",
       "  <thead>\n",
       "    <tr style=\"text-align: right;\">\n",
       "      <th></th>\n",
       "      <th>title</th>\n",
       "      <th>hybrid</th>\n",
       "    </tr>\n",
       "  </thead>\n",
       "  <tbody>\n",
       "    <tr>\n",
       "      <th>0</th>\n",
       "      <td>Wild at Heart (1990)</td>\n",
       "      <td>2.236</td>\n",
       "    </tr>\n",
       "    <tr>\n",
       "      <th>2</th>\n",
       "      <td>Mediterraneo (1991)</td>\n",
       "      <td>1.561</td>\n",
       "    </tr>\n",
       "    <tr>\n",
       "      <th>3</th>\n",
       "      <td>Old Man and the Sea, The (1958)</td>\n",
       "      <td>1.336</td>\n",
       "    </tr>\n",
       "    <tr>\n",
       "      <th>22</th>\n",
       "      <td>Naked (1993)</td>\n",
       "      <td>1.328</td>\n",
       "    </tr>\n",
       "    <tr>\n",
       "      <th>5</th>\n",
       "      <td>Clockwatchers (1997)</td>\n",
       "      <td>1.299</td>\n",
       "    </tr>\n",
       "    <tr>\n",
       "      <th>7</th>\n",
       "      <td>Lost Highway (1997)</td>\n",
       "      <td>1.276</td>\n",
       "    </tr>\n",
       "    <tr>\n",
       "      <th>42</th>\n",
       "      <td>Beautiful Thing (1996)</td>\n",
       "      <td>1.269</td>\n",
       "    </tr>\n",
       "    <tr>\n",
       "      <th>15</th>\n",
       "      <td>Guys and Dolls (1955)</td>\n",
       "      <td>1.230</td>\n",
       "    </tr>\n",
       "    <tr>\n",
       "      <th>35</th>\n",
       "      <td>Giant (1956)</td>\n",
       "      <td>1.192</td>\n",
       "    </tr>\n",
       "    <tr>\n",
       "      <th>122</th>\n",
       "      <td>Angela's Ashes (1999)</td>\n",
       "      <td>1.184</td>\n",
       "    </tr>\n",
       "  </tbody>\n",
       "</table>\n",
       "</div>"
      ],
      "text/plain": [
       "                               title  hybrid\n",
       "0               Wild at Heart (1990)   2.236\n",
       "2                Mediterraneo (1991)   1.561\n",
       "3    Old Man and the Sea, The (1958)   1.336\n",
       "22                      Naked (1993)   1.328\n",
       "5               Clockwatchers (1997)   1.299\n",
       "7                Lost Highway (1997)   1.276\n",
       "42            Beautiful Thing (1996)   1.269\n",
       "15             Guys and Dolls (1955)   1.230\n",
       "35                      Giant (1956)   1.192\n",
       "122            Angela's Ashes (1999)   1.184"
      ]
     },
     "execution_count": 27,
     "metadata": {},
     "output_type": "execute_result"
    }
   ],
   "source": [
    "movies_ordered_by_rating = pd.merge(recommendation_df,movie,how=\"inner\",on=\"movieId\")[[\"movieId\",\"weighted_rating\",\"title\"]]\n",
    "\n",
    "merged = pd.merge(movies_similarity,movies_ordered_by_rating,how=\"inner\", on=\"title\")\n",
    "\n",
    "merged[\"hybrid\"] = merged[\"similarity\"] * merged[\"weighted_rating\"]\n",
    "\n",
    "merged[[\"title\",\"hybrid\"]].sort_values(by=\"hybrid\", ascending=False).head(10)"
   ]
  }
 ],
 "metadata": {
  "kernelspec": {
   "display_name": "Python 3",
   "language": "python",
   "name": "python3"
  },
  "language_info": {
   "codemirror_mode": {
    "name": "ipython",
    "version": 3
   },
   "file_extension": ".py",
   "mimetype": "text/x-python",
   "name": "python",
   "nbconvert_exporter": "python",
   "pygments_lexer": "ipython3",
   "version": "3.10.12"
  },
  "papermill": {
   "default_parameters": {},
   "duration": 60.966774,
   "end_time": "2023-11-01T09:47:49.657204",
   "environment_variables": {},
   "exception": null,
   "input_path": "__notebook__.ipynb",
   "output_path": "__notebook__.ipynb",
   "parameters": {},
   "start_time": "2023-11-01T09:46:48.690430",
   "version": "2.4.0"
  }
 },
 "nbformat": 4,
 "nbformat_minor": 5
}
